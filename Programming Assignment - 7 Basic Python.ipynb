{
 "cells": [
  {
   "cell_type": "code",
   "execution_count": 1,
   "id": "10a5ce8a",
   "metadata": {},
   "outputs": [
    {
     "name": "stdout",
     "output_type": "stream",
     "text": [
      "Sum of the array is  56\n"
     ]
    }
   ],
   "source": [
    "#Q1 Write a Python Program to find sum of array?\n",
    "import array as arr\n",
    "a = arr.array('i',[10, 21, 12, 13])\n",
    "print ('Sum of the array is ', sum(a) ) "
   ]
  },
  {
   "cell_type": "code",
   "execution_count": 2,
   "id": "01392b84",
   "metadata": {},
   "outputs": [
    {
     "name": "stdout",
     "output_type": "stream",
     "text": [
      "Largest element present in given array: 75\n"
     ]
    }
   ],
   "source": [
    "#Q2 Write a Python Program to find largest element in an array?\n",
    "arr = [25, 11, 7, 75, 56];      \n",
    "max = arr[0];    \n",
    "for i in range(0, len(arr)):\n",
    "    if(arr[i] > max): \n",
    "        \n",
    "        max = arr[i];    \n",
    "           \n",
    "print(\"Largest element present in given array: \" + str(max));   "
   ]
  },
  {
   "cell_type": "code",
   "execution_count": 3,
   "id": "4e4be3c5",
   "metadata": {},
   "outputs": [
    {
     "name": "stdout",
     "output_type": "stream",
     "text": [
      "Rotated list is\n",
      "[3, 4, 5, 6, 1, 2]\n"
     ]
    }
   ],
   "source": [
    "#Q3 Write a Python Program for array rotation?\n",
    "def rotateArray(a,d):\n",
    "    n=len(a)\n",
    "    a[:]=a[d:n]+a[0:d]\n",
    "    return a\n",
    "\n",
    "arr = [1, 2, 3, 4, 5, 6]\n",
    "\n",
    "print(\"Rotated list is\")\n",
    "print(rotateArray(arr,2)) "
   ]
  },
  {
   "cell_type": "code",
   "execution_count": 7,
   "id": "c60d34e3",
   "metadata": {},
   "outputs": [
    {
     "name": "stdout",
     "output_type": "stream",
     "text": [
      "15 16 50 36 15 40 "
     ]
    }
   ],
   "source": [
    "#Q4 Write a Python Program to Split the array and add the first part to the end?\n",
    "def SplitArray(arr, n, k):\n",
    "    for i in range(0, k):\n",
    "        x = arr[0]\n",
    "        for j in range(0, n-1):\n",
    "            \n",
    "            arr[j] = arr[j + 1]\n",
    "\n",
    "        arr[n-1] = x\n",
    "arr = [15, 40, 15, 16, 50, 36]\n",
    "n = len(arr)\n",
    "position = 2\n",
    "SplitArray(arr, n, position)\n",
    "for i in range(0, n):\n",
    "    print(arr[i], end = ' ')"
   ]
  },
  {
   "cell_type": "code",
   "execution_count": null,
   "id": "68d5fbdf",
   "metadata": {},
   "outputs": [],
   "source": []
  }
 ],
 "metadata": {
  "kernelspec": {
   "display_name": "Python 3 (ipykernel)",
   "language": "python",
   "name": "python3"
  },
  "language_info": {
   "codemirror_mode": {
    "name": "ipython",
    "version": 3
   },
   "file_extension": ".py",
   "mimetype": "text/x-python",
   "name": "python",
   "nbconvert_exporter": "python",
   "pygments_lexer": "ipython3",
   "version": "3.9.7"
  }
 },
 "nbformat": 4,
 "nbformat_minor": 5
}
